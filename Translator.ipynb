{
 "cells": [
  {
   "cell_type": "markdown",
   "id": "fcb6ce23",
   "metadata": {},
   "source": [
    "## Translator using Google API"
   ]
  },
  {
   "cell_type": "markdown",
   "id": "a4119a3a",
   "metadata": {},
   "source": [
    "### Import Libraries"
   ]
  },
  {
   "cell_type": "code",
   "execution_count": 1,
   "id": "c94d013f",
   "metadata": {},
   "outputs": [
    {
     "name": "stdout",
     "output_type": "stream",
     "text": [
      "Requirement already satisfied: SpeechRecognition in /opt/anaconda3/lib/python3.8/site-packages (3.8.1)\n",
      "Requirement already satisfied: googletrans in /opt/anaconda3/lib/python3.8/site-packages (3.0.0)\n",
      "Requirement already satisfied: httpx==0.13.3 in /opt/anaconda3/lib/python3.8/site-packages (from googletrans) (0.13.3)\n",
      "Requirement already satisfied: rfc3986<2,>=1.3 in /opt/anaconda3/lib/python3.8/site-packages (from httpx==0.13.3->googletrans) (1.5.0)\n",
      "Requirement already satisfied: idna==2.* in /opt/anaconda3/lib/python3.8/site-packages (from httpx==0.13.3->googletrans) (2.10)\n",
      "Requirement already satisfied: hstspreload in /opt/anaconda3/lib/python3.8/site-packages (from httpx==0.13.3->googletrans) (2021.12.1)\n",
      "Requirement already satisfied: sniffio in /opt/anaconda3/lib/python3.8/site-packages (from httpx==0.13.3->googletrans) (1.2.0)\n",
      "Requirement already satisfied: httpcore==0.9.* in /opt/anaconda3/lib/python3.8/site-packages (from httpx==0.13.3->googletrans) (0.9.1)\n",
      "Requirement already satisfied: chardet==3.* in /opt/anaconda3/lib/python3.8/site-packages (from httpx==0.13.3->googletrans) (3.0.4)\n",
      "Requirement already satisfied: certifi in /opt/anaconda3/lib/python3.8/site-packages (from httpx==0.13.3->googletrans) (2020.12.5)\n",
      "Requirement already satisfied: h11<0.10,>=0.8 in /opt/anaconda3/lib/python3.8/site-packages (from httpcore==0.9.*->httpx==0.13.3->googletrans) (0.9.0)\n",
      "Requirement already satisfied: h2==3.* in /opt/anaconda3/lib/python3.8/site-packages (from httpcore==0.9.*->httpx==0.13.3->googletrans) (3.2.0)\n",
      "Requirement already satisfied: hpack<4,>=3.0 in /opt/anaconda3/lib/python3.8/site-packages (from h2==3.*->httpcore==0.9.*->httpx==0.13.3->googletrans) (3.0.0)\n",
      "Requirement already satisfied: hyperframe<6,>=5.2.0 in /opt/anaconda3/lib/python3.8/site-packages (from h2==3.*->httpcore==0.9.*->httpx==0.13.3->googletrans) (5.2.0)\n",
      "Requirement already satisfied: gtts in /opt/anaconda3/lib/python3.8/site-packages (2.2.3)\n",
      "Requirement already satisfied: requests in /opt/anaconda3/lib/python3.8/site-packages (from gtts) (2.25.1)\n",
      "Requirement already satisfied: click in /opt/anaconda3/lib/python3.8/site-packages (from gtts) (7.1.2)\n",
      "Requirement already satisfied: six in /opt/anaconda3/lib/python3.8/site-packages (from gtts) (1.15.0)\n",
      "Requirement already satisfied: idna<3,>=2.5 in /opt/anaconda3/lib/python3.8/site-packages (from requests->gtts) (2.10)\n",
      "Requirement already satisfied: chardet<5,>=3.0.2 in /opt/anaconda3/lib/python3.8/site-packages (from requests->gtts) (3.0.4)\n",
      "Requirement already satisfied: certifi>=2017.4.17 in /opt/anaconda3/lib/python3.8/site-packages (from requests->gtts) (2020.12.5)\n",
      "Requirement already satisfied: urllib3<1.27,>=1.21.1 in /opt/anaconda3/lib/python3.8/site-packages (from requests->gtts) (1.26.4)\n",
      "Requirement already satisfied: pipwin in /opt/anaconda3/lib/python3.8/site-packages (0.5.1)\n",
      "Requirement already satisfied: js2py in /opt/anaconda3/lib/python3.8/site-packages (from pipwin) (0.71)\n",
      "Requirement already satisfied: packaging in /opt/anaconda3/lib/python3.8/site-packages (from pipwin) (20.9)\n",
      "Requirement already satisfied: pySmartDL>=1.3.1 in /opt/anaconda3/lib/python3.8/site-packages (from pipwin) (1.3.4)\n",
      "Requirement already satisfied: six in /opt/anaconda3/lib/python3.8/site-packages (from pipwin) (1.15.0)\n",
      "Requirement already satisfied: requests in /opt/anaconda3/lib/python3.8/site-packages (from pipwin) (2.25.1)\n",
      "Requirement already satisfied: pyprind in /opt/anaconda3/lib/python3.8/site-packages (from pipwin) (2.11.3)\n",
      "Requirement already satisfied: docopt in /opt/anaconda3/lib/python3.8/site-packages (from pipwin) (0.6.2)\n",
      "Requirement already satisfied: beautifulsoup4>=4.9.0 in /opt/anaconda3/lib/python3.8/site-packages (from pipwin) (4.9.3)\n",
      "Requirement already satisfied: soupsieve>1.2 in /opt/anaconda3/lib/python3.8/site-packages (from beautifulsoup4>=4.9.0->pipwin) (2.2.1)\n",
      "Requirement already satisfied: tzlocal>=1.2 in /opt/anaconda3/lib/python3.8/site-packages (from js2py->pipwin) (4.1)\n",
      "Requirement already satisfied: pyjsparser>=2.5.1 in /opt/anaconda3/lib/python3.8/site-packages (from js2py->pipwin) (2.7.1)\n",
      "Requirement already satisfied: pytz-deprecation-shim in /opt/anaconda3/lib/python3.8/site-packages (from tzlocal>=1.2->js2py->pipwin) (0.1.0.post0)\n",
      "Requirement already satisfied: backports.zoneinfo in /opt/anaconda3/lib/python3.8/site-packages (from tzlocal>=1.2->js2py->pipwin) (0.2.1)\n",
      "Requirement already satisfied: pyparsing>=2.0.2 in /opt/anaconda3/lib/python3.8/site-packages (from packaging->pipwin) (2.4.7)\n",
      "Requirement already satisfied: tzdata in /opt/anaconda3/lib/python3.8/site-packages (from pytz-deprecation-shim->tzlocal>=1.2->js2py->pipwin) (2021.5)\n",
      "Requirement already satisfied: certifi>=2017.4.17 in /opt/anaconda3/lib/python3.8/site-packages (from requests->pipwin) (2020.12.5)\n",
      "Requirement already satisfied: urllib3<1.27,>=1.21.1 in /opt/anaconda3/lib/python3.8/site-packages (from requests->pipwin) (1.26.4)\n",
      "Requirement already satisfied: idna<3,>=2.5 in /opt/anaconda3/lib/python3.8/site-packages (from requests->pipwin) (2.10)\n",
      "Requirement already satisfied: chardet<5,>=3.0.2 in /opt/anaconda3/lib/python3.8/site-packages (from requests->pipwin) (3.0.4)\n",
      "/opt/anaconda3/lib/python3.8/site-packages/pipwin/command.py:66: UserWarning: Found a non Windows system. Package installation might not work.\n",
      "  warn(\"Found a non Windows system. Package installation might not work.\")\n",
      "Package `pyaudio` found in cache\n",
      "Downloading package . . .\n",
      "https://download.lfd.uci.edu/pythonlibs/x6hvwk7i/PyAudio-0.2.11-cp38-cp38-win_amd64.whl\n",
      "PyAudio-0.2.11-cp38-cp38-win_amd64.whl\n",
      "File /Users/ritutripathi/pipwin/PyAudio-0.2.11-cp38-cp38-win_amd64.whl already exists\n",
      "\u001b[31mERROR: PyAudio-0.2.11-cp38-cp38-win_amd64.whl is not a supported wheel on this platform.\u001b[0m\n",
      "Traceback (most recent call last):\n",
      "  File \"/opt/anaconda3/bin/pipwin\", line 8, in <module>\n",
      "    sys.exit(main())\n",
      "  File \"/opt/anaconda3/lib/python3.8/site-packages/pipwin/command.py\", line 103, in main\n",
      "    cache.install(package)\n",
      "  File \"/opt/anaconda3/lib/python3.8/site-packages/pipwin/pipwin.py\", line 301, in install\n",
      "    subprocess.check_call([executable, \"-m\", \"pip\", \"install\", wheel_file])\n",
      "  File \"/opt/anaconda3/lib/python3.8/subprocess.py\", line 364, in check_call\n",
      "    raise CalledProcessError(retcode, cmd)\n",
      "subprocess.CalledProcessError: Command '['/opt/anaconda3/bin/python', '-m', 'pip', 'install', '/Users/ritutripathi/pipwin/PyAudio-0.2.11-cp38-cp38-win_amd64.whl']' returned non-zero exit status 1.\n"
     ]
    }
   ],
   "source": [
    "#Import Necessary Libraries\n",
    "!pip install SpeechRecognition\n",
    "!pip install googletrans\n",
    "!pip install gtts\n",
    "!pip install pipwin\n",
    "!pipwin install pyaudio\n",
    "import speech_recognition as spr\n",
    "from googletrans import Translator\n",
    "from gtts import gTTS\n",
    "import os"
   ]
  },
  {
   "cell_type": "markdown",
   "id": "a78524a1",
   "metadata": {},
   "source": [
    "### Function for translator"
   ]
  },
  {
   "cell_type": "code",
   "execution_count": 8,
   "id": "5a874692",
   "metadata": {},
   "outputs": [
    {
     "name": "stdout",
     "output_type": "stream",
     "text": [
      "Speak 'hello' to initiate the Translation !\n",
      "~~~~~~~~~~~~~~~~~~~~~~~~~~~~~~~~~~~~~~~~~~~~\n",
      "Speak a stentence...\n",
      "Phase to be Translated :where are you going where are you going\n",
      "Unable to Understand the Input\n"
     ]
    }
   ],
   "source": [
    "# Creating Recogniser() class object\n",
    "recog1 = spr.Recognizer()\n",
    "\n",
    "# Creating microphone instance\n",
    "mc = spr.Microphone()\n",
    "\n",
    "\n",
    "# Capture Voice\n",
    "with mc as source:\n",
    "    print(\"Speak 'hello' to initiate the Translation !\")\n",
    "    print(\"~~~~~~~~~~~~~~~~~~~~~~~~~~~~~~~~~~~~~~~~~~~~\")\n",
    "    recog1.adjust_for_ambient_noise(source)\n",
    "    audio = recog1.listen(source)\n",
    "    MyText = recog1.recognize_google(audio)\n",
    "    MyText = MyText.lower()\n",
    "\n",
    "# Here initialising the recorder with hello, whatever after that hello it will recognise it.\n",
    "if 'hello' in MyText:\n",
    "\n",
    "    # Translator method for translation\n",
    "    translator = Translator()\n",
    "\n",
    "    # short form of english in which you will speak\n",
    "    from_lang = 'en'\n",
    "    \n",
    "    # In which we want to convert, short form of german\n",
    "    to_lang = 'de'\n",
    "    \n",
    "    with mc as source:\n",
    "\n",
    "        print(\"Speak a stentence...\")\n",
    "        recog1.adjust_for_ambient_noise(source,)\n",
    "\n",
    "        # Storing the speech into audio variable\n",
    "        audio = recog1.listen(source)\n",
    "\n",
    "        # Using recognize.google() method to convert audio into text\n",
    "        get_sentence = recog1.recognize_google(audio)\n",
    "\n",
    "        # Using try and except block to improve its efficiency.\n",
    "        try:\n",
    "\n",
    "            # Printing Speech which need to be translated.\n",
    "            print(\"Phase to be Translated :\"+ get_sentence)\n",
    "\n",
    "            # Using translate() method which requires three arguments, 1st the sentence which needs to be translated 2nd source language and 3rd to which we need to translate in\n",
    "            text_to_translate = translator.translate(get_sentence,src= from_lang,dest= to_lang)\n",
    "\n",
    "            # Storing the translated text in text variable\n",
    "            text = text_to_translate.text\n",
    "\n",
    "            # Using Google-Text-to-Speech ie, gTTS() method to speak the translated text into the destination language which is stored in to_lang. Also, we have given 3rd argument as False because by default it speaks very slowly\n",
    "            speak = gTTS(text=text, lang=to_lang, slow= False)\n",
    "\n",
    "            # Using save() method to save the translated speech in capture_voice.mp3\n",
    "            speak.save(\"captured_voice.mp3\")\n",
    "            # Using OS module to run the translated voice.\n",
    "            os.system(\"start captured_voice.mp3\")\n",
    "\n",
    "        # Here we are using except block for UnknownValue and Request Error and printing the same to provide better service to the user.\n",
    "        except spr.UnknownValueError:\n",
    "            print(\"Unable to Understand the Input\")\n",
    "\n",
    "        except spr.RequestError as e:\n",
    "            print(\"Unable to provide Required Output\".format(e))\n",
    "            \n",
    "        except AttributeError:\n",
    "            print(\"Unable to Understand the Input\")\n",
    "\n"
   ]
  },
  {
   "cell_type": "markdown",
   "id": "b63e94b5",
   "metadata": {},
   "source": [
    "### Check for other languages"
   ]
  },
  {
   "cell_type": "code",
   "execution_count": null,
   "id": "78480a8d",
   "metadata": {},
   "outputs": [],
   "source": [
    "#Check what all languages are supported\n",
    "import googletrans\n",
    "print(googletrans.LANGUAGES)"
   ]
  }
 ],
 "metadata": {
  "kernelspec": {
   "display_name": "Python 3",
   "language": "python",
   "name": "python3"
  },
  "language_info": {
   "codemirror_mode": {
    "name": "ipython",
    "version": 3
   },
   "file_extension": ".py",
   "mimetype": "text/x-python",
   "name": "python",
   "nbconvert_exporter": "python",
   "pygments_lexer": "ipython3",
   "version": "3.8.8"
  }
 },
 "nbformat": 4,
 "nbformat_minor": 5
}
